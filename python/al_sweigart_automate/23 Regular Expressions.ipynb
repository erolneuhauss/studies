{
 "cells": [
  {
   "cell_type": "markdown",
   "metadata": {},
   "source": [
    "# Regular Expression"
   ]
  },
  {
   "cell_type": "markdown",
   "metadata": {},
   "source": [
    "## without regular expressions"
   ]
  },
  {
   "cell_type": "code",
   "execution_count": 1,
   "metadata": {},
   "outputs": [
    {
     "name": "stdout",
     "output_type": "stream",
     "text": [
      "True\n"
     ]
    }
   ],
   "source": [
    "def isPhoneNumber(text): # 415-555-5555\n",
    "    if len(text) != 12:\n",
    "        return False # not US phone number-sized\n",
    "    for i in range(0,3):\n",
    "        if not text[i].isdecimal():\n",
    "            return False # no area code\n",
    "    if text[3] != '-':\n",
    "        return False # missing dash\n",
    "    for i in range(4, 7):\n",
    "        if not text[i].isdecimal():\n",
    "            return False # no first 3 digits\n",
    "    if text[7] != '-':\n",
    "        return False # missing second dash\n",
    "    for i in range(8, 12):\n",
    "        if not text[i].isdecimal():\n",
    "            return False # missing last 4 digits\n",
    "    return True\n",
    "print(isPhoneNumber('415-555-1234'))\n"
   ]
  },
  {
   "cell_type": "code",
   "execution_count": 2,
   "metadata": {},
   "outputs": [
    {
     "name": "stdout",
     "output_type": "stream",
     "text": [
      "False\n"
     ]
    }
   ],
   "source": [
    "print(isPhoneNumber('hello'))\n"
   ]
  },
  {
   "cell_type": "code",
   "execution_count": 12,
   "metadata": {},
   "outputs": [
    {
     "name": "stdout",
     "output_type": "stream",
     "text": [
      "Phone number found: 415-555-1234\n",
      "Phone number found: 415-555-9999\n",
      "['415-555-1234', '415-555-9999']\n",
      "Could not find any phone numbers.\n",
      "[]\n",
      "Phone number found: 415-555-3433\n",
      "['415-555-3433']\n"
     ]
    }
   ],
   "source": [
    "def findPhoneNumbers(message):\n",
    "    foundNumber = False\n",
    "    phoneNumbers = []\n",
    "    for i in range(len(message)):\n",
    "        chunk = message[i:i+12]\n",
    "        if isPhoneNumber(chunk):\n",
    "            # print out individually\n",
    "            print('Phone number found: ' + chunk)\n",
    "            phoneNumbers.append(chunk)\n",
    "            foundNumber = True\n",
    "    if not foundNumber:\n",
    "        print('Could not find any phone numbers.')\n",
    "    # print as a list:\n",
    "    print(phoneNumbers)\n",
    "\n",
    "message = 'Call me 415-555-1234 tomorrow, or at 415-555-9999'    \n",
    "findPhoneNumbers(message)\n",
    "message2 = 'Call me 415-555-34 tomorrow, or at 415-olla-9999'    \n",
    "findPhoneNumbers(message2)\n",
    "message3 = 'Call me 415-555-3433 tomorrow, or at 415-olla-9999'    \n",
    "findPhoneNumbers(message3)"
   ]
  },
  {
   "cell_type": "code",
   "execution_count": 16,
   "metadata": {},
   "outputs": [
    {
     "name": "stdout",
     "output_type": "stream",
     "text": [
      "415-555-1234\n"
     ]
    }
   ],
   "source": [
    "import re\n",
    "message = 'Call me 415-555-1234 tomorrow, or at 415-555-9999 for my office'    \n",
    "\n",
    "phoneNumRegex = re.compile(r'\\d\\d\\d-\\d\\d\\d-\\d\\d\\d\\d')\n",
    "matchedObject = phoneNumRegex.search(message)\n",
    "print(matchedObject.group())"
   ]
  },
  {
   "cell_type": "code",
   "execution_count": 19,
   "metadata": {},
   "outputs": [
    {
     "name": "stdout",
     "output_type": "stream",
     "text": [
      "['415-555-1234', '415-555-9999']\n"
     ]
    }
   ],
   "source": [
    "message = 'Call me 415-555-1234 tomorrow, or at 415-555-9999 for my office'    \n",
    "\n",
    "phoneNumRegex = re.compile(r'\\d\\d\\d-\\d\\d\\d-\\d\\d\\d\\d')\n",
    "matchedObject = phoneNumRegex.findall(message)\n",
    "print(matchedObject)"
   ]
  },
  {
   "cell_type": "code",
   "execution_count": null,
   "metadata": {},
   "outputs": [],
   "source": []
  }
 ],
 "metadata": {
  "kernelspec": {
   "display_name": "Python 3",
   "language": "python",
   "name": "python3"
  },
  "language_info": {
   "codemirror_mode": {
    "name": "ipython",
    "version": 3
   },
   "file_extension": ".py",
   "mimetype": "text/x-python",
   "name": "python",
   "nbconvert_exporter": "python",
   "pygments_lexer": "ipython3",
   "version": "3.8.5"
  }
 },
 "nbformat": 4,
 "nbformat_minor": 4
}
