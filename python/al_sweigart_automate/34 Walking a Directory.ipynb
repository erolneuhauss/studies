{
 "cells": [
  {
   "cell_type": "code",
   "execution_count": 2,
   "metadata": {},
   "outputs": [
    {
     "data": {
      "text/plain": [
       "'/home/eneuhauss/git/studies/python/al_sweigart_automate'"
      ]
     },
     "execution_count": 2,
     "metadata": {},
     "output_type": "execute_result"
    }
   ],
   "source": [
    "import os\n",
    "os.getcwd()"
   ]
  },
  {
   "cell_type": "code",
   "execution_count": 3,
   "metadata": {},
   "outputs": [
    {
     "data": {
      "text/plain": [
       "['foo', 'spamspamspam.txt', 'spam.txt', 'walnut']"
      ]
     },
     "execution_count": 3,
     "metadata": {},
     "output_type": "execute_result"
    }
   ],
   "source": [
    "os.listdir('delicious')"
   ]
  },
  {
   "cell_type": "code",
   "execution_count": 8,
   "metadata": {},
   "outputs": [
    {
     "name": "stdout",
     "output_type": "stream",
     "text": [
      "The folder is delicious\n",
      "The subfolder in delicious are ['foo', 'walnut']\n",
      "The filenames in delicious are ['spamspamspam.txt', 'spam.txt']\n",
      "\n",
      "The folder is delicious/foo\n",
      "The subfolder in delicious/foo are []\n",
      "The filenames in delicious/foo are ['spam.txt']\n",
      "\n",
      "The folder is delicious/walnut\n",
      "The subfolder in delicious/walnut are ['waffles']\n",
      "The filenames in delicious/walnut are ['eggs.txt']\n",
      "\n",
      "The folder is delicious/walnut/waffles\n",
      "The subfolder in delicious/walnut/waffles are ['bacon.txt', 'ham.txt']\n",
      "The filenames in delicious/walnut/waffles are []\n",
      "\n",
      "The folder is delicious/walnut/waffles/bacon.txt\n",
      "The subfolder in delicious/walnut/waffles/bacon.txt are []\n",
      "The filenames in delicious/walnut/waffles/bacon.txt are []\n",
      "\n",
      "The folder is delicious/walnut/waffles/ham.txt\n",
      "The subfolder in delicious/walnut/waffles/ham.txt are []\n",
      "The filenames in delicious/walnut/waffles/ham.txt are []\n",
      "\n"
     ]
    }
   ],
   "source": [
    "for folderName, subfolders, filenames in os.walk('delicious'):\n",
    "    print(f'The folder is {folderName}')\n",
    "    print(f'The subfolder in {folderName} are {str(subfolders)}')\n",
    "    print(f'The filenames in {folderName} are {str(filenames)}')\n",
    "    print()"
   ]
  },
  {
   "cell_type": "code",
   "execution_count": 12,
   "metadata": {},
   "outputs": [],
   "source": [
    "import shutil\n",
    "\n",
    "for folderName, subfolders, filenames in os.walk('delicious'):\n",
    "    for subfolder in subfolders:\n",
    "        if 'fish' in subfolder:\n",
    "            os.rmdir(subfolder)\n",
    "    for file in filenames:\n",
    "        if file.endswith('.txt'):\n",
    "            shutil.copy(os.path.join(folderName, file), os.path.join(folderName, f'{file}.backup'))"
   ]
  },
  {
   "cell_type": "code",
   "execution_count": 13,
   "metadata": {},
   "outputs": [
    {
     "name": "stdout",
     "output_type": "stream",
     "text": [
      "The folder is delicious\n",
      "The subfolder in delicious are ['foo', 'walnut']\n",
      "The filenames in delicious are ['spamspamspam.txt.backup', 'spamspamspam.txt', 'spam.txt', 'spam.txt.backup']\n",
      "\n",
      "The folder is delicious/foo\n",
      "The subfolder in delicious/foo are []\n",
      "The filenames in delicious/foo are ['spam.txt', 'spam.txt.backup']\n",
      "\n",
      "The folder is delicious/walnut\n",
      "The subfolder in delicious/walnut are ['waffles']\n",
      "The filenames in delicious/walnut are ['eggs.txt', 'eggs.txt.backup']\n",
      "\n",
      "The folder is delicious/walnut/waffles\n",
      "The subfolder in delicious/walnut/waffles are ['bacon.txt', 'ham.txt']\n",
      "The filenames in delicious/walnut/waffles are []\n",
      "\n",
      "The folder is delicious/walnut/waffles/bacon.txt\n",
      "The subfolder in delicious/walnut/waffles/bacon.txt are []\n",
      "The filenames in delicious/walnut/waffles/bacon.txt are []\n",
      "\n",
      "The folder is delicious/walnut/waffles/ham.txt\n",
      "The subfolder in delicious/walnut/waffles/ham.txt are []\n",
      "The filenames in delicious/walnut/waffles/ham.txt are []\n",
      "\n"
     ]
    }
   ],
   "source": [
    "for folderName, subfolders, filenames in os.walk('delicious'):\n",
    "    print(f'The folder is {folderName}')\n",
    "    print(f'The subfolder in {folderName} are {str(subfolders)}')\n",
    "    print(f'The filenames in {folderName} are {str(filenames)}')\n",
    "    print()\n"
   ]
  },
  {
   "cell_type": "code",
   "execution_count": null,
   "metadata": {},
   "outputs": [],
   "source": []
  }
 ],
 "metadata": {
  "kernelspec": {
   "display_name": "Python 3",
   "language": "python",
   "name": "python3"
  },
  "language_info": {
   "codemirror_mode": {
    "name": "ipython",
    "version": 3
   },
   "file_extension": ".py",
   "mimetype": "text/x-python",
   "name": "python",
   "nbconvert_exporter": "python",
   "pygments_lexer": "ipython3",
   "version": "3.8.5"
  }
 },
 "nbformat": 4,
 "nbformat_minor": 4
}
