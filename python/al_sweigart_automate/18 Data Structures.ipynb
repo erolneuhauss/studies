{
 "cells": [
  {
   "cell_type": "code",
   "execution_count": 2,
   "metadata": {},
   "outputs": [
    {
     "data": {
      "text/plain": [
       "[{'name': 'Zophie', 'age': 7, 'color': 'gray'},\n",
       " {'name': 'Pooka', 'age': 5, 'color': 'black'},\n",
       " {'name': 'Fat-Tail', 'age': 4, 'color': 'white'},\n",
       " {'name': '???', 'age': -1, 'color': 'orange'}]"
      ]
     },
     "execution_count": 2,
     "metadata": {},
     "output_type": "execute_result"
    }
   ],
   "source": [
    "cat = {'name': 'Zophie', 'age': 7, 'color': 'gray' }\n",
    "allCats = []\n",
    "allCats.append({'name': 'Zophie', 'age': 7, 'color': 'gray' })\n",
    "allCats.append({'name': 'Pooka', 'age': 5, 'color': 'black' })\n",
    "allCats.append({'name': 'Fat-Tail', 'age': 4, 'color': 'white' })\n",
    "allCats.append({'name': '???', 'age': -1, 'color': 'orange' })\n",
    "allCats"
   ]
  },
  {
   "cell_type": "code",
   "execution_count": 6,
   "metadata": {},
   "outputs": [
    {
     "data": {
      "text/plain": [
       "{'top-L': ' ',\n",
       " 'top-M': ' ',\n",
       " 'top-R': ' ',\n",
       " 'mid-L': ' ',\n",
       " 'mid-M': 'X',\n",
       " 'mid-R': ' ',\n",
       " 'low-L': ' ',\n",
       " 'low-M': ' ',\n",
       " 'low-R': ' '}"
      ]
     },
     "execution_count": 6,
     "metadata": {},
     "output_type": "execute_result"
    }
   ],
   "source": [
    "theBoard = {'top-L': ' ', 'top-M': ' ', 'top-R': ' ', 'mid-L': ' ', 'mid-M': 'X', 'mid-R': ' ', 'low-L': ' ', 'low-M': ' ', 'low-R': ' ', }\n",
    "theBoard"
   ]
  },
  {
   "cell_type": "code",
   "execution_count": 8,
   "metadata": {},
   "outputs": [
    {
     "data": {
      "text/plain": [
       "{'top-L': ' ',\n",
       " 'top-M': ' ',\n",
       " 'top-R': ' ',\n",
       " 'mid-L': ' ',\n",
       " 'mid-M': ' ',\n",
       " 'mid-R': ' ',\n",
       " 'low-L': ' ',\n",
       " 'low-M': ' ',\n",
       " 'low-R': ' '}"
      ]
     },
     "execution_count": 8,
     "metadata": {},
     "output_type": "execute_result"
    }
   ],
   "source": [
    "theBoard['mid-M'] = ' '\n",
    "theBoard"
   ]
  },
  {
   "cell_type": "code",
   "execution_count": 10,
   "metadata": {},
   "outputs": [
    {
     "data": {
      "text/plain": [
       "{'top-L': 'O',\n",
       " 'top-M': 'O',\n",
       " 'top-R': 'O',\n",
       " 'mid-L': 'X',\n",
       " 'mid-M': 'X',\n",
       " 'mid-R': ' ',\n",
       " 'low-L': ' ',\n",
       " 'low-M': ' ',\n",
       " 'low-R': 'X'}"
      ]
     },
     "execution_count": 10,
     "metadata": {},
     "output_type": "execute_result"
    }
   ],
   "source": [
    "theBoard['top-L'] = 'O'\n",
    "theBoard['top-M'] = 'O'\n",
    "theBoard['top-R'] = 'O'\n",
    "theBoard['mid-L'] = 'X'\n",
    "theBoard['mid-M'] = 'X'\n",
    "theBoard['low-R'] = 'X'\n",
    "theBoard"
   ]
  },
  {
   "cell_type": "code",
   "execution_count": 17,
   "metadata": {},
   "outputs": [
    {
     "name": "stdout",
     "output_type": "stream",
     "text": [
      "O ┊ O | O\n",
      "- - - - -\n",
      "X | X |  \n",
      "- - - - -\n",
      "  |   | X\n"
     ]
    }
   ],
   "source": [
    "def printBoard(board):\n",
    "    print(f\"{board['top-L']} | {board['top-M']} | {board['top-R']}\")\n",
    "    print(\"- - - - -\")\n",
    "    print(f\"{board['mid-L']} | {board['mid-M']} | {board['mid-R']}\")\n",
    "    print(\"- - - - -\")\n",
    "    print(f\"{board['low-L']} | {board['low-M']} | {board['low-R']}\")\n",
    "\n",
    "\n",
    "printBoard(theBoard)\n",
    "    "
   ]
  },
  {
   "cell_type": "code",
   "execution_count": 25,
   "metadata": {},
   "outputs": [
    {
     "name": "stdout",
     "output_type": "stream",
     "text": [
      "<class 'int'>\n",
      "<class 'str'>\n",
      "<class 'float'>\n",
      "<class 'dict'>\n",
      "<class 'str'>\n",
      "<class 'list'>\n",
      "<class 'tuple'>\n"
     ]
    }
   ],
   "source": [
    "print(type(42))\n",
    "print(type('hello'))\n",
    "print(type(3.14))\n",
    "print(type(theBoard))\n",
    "print(type(theBoard['top-L']))\n",
    "print(type([1, 2, 3]))\n",
    "print(type((1, 2, 3,)))"
   ]
  },
  {
   "cell_type": "code",
   "execution_count": null,
   "metadata": {},
   "outputs": [],
   "source": []
  }
 ],
 "metadata": {
  "kernelspec": {
   "display_name": "Python 3",
   "language": "python",
   "name": "python3"
  },
  "language_info": {
   "codemirror_mode": {
    "name": "ipython",
    "version": 3
   },
   "file_extension": ".py",
   "mimetype": "text/x-python",
   "name": "python",
   "nbconvert_exporter": "python",
   "pygments_lexer": "ipython3",
   "version": "3.8.5"
  }
 },
 "nbformat": 4,
 "nbformat_minor": 4
}
