{
 "cells": [
  {
   "cell_type": "code",
   "execution_count": 13,
   "metadata": {},
   "outputs": [
    {
     "name": "stdout",
     "output_type": "stream",
     "text": [
      "<Response [200]>\n"
     ]
    }
   ],
   "source": [
    "import requests,os\n",
    "from pprint import pprint\n",
    "country = 'DE'\n",
    "zipcode = '51143'\n",
    "api_key = os.getenv(\"OWM_API_KEY\")\n",
    "units = 'metric'\n",
    "language = 'de'\n",
    "url = f\"http://api.openweathermap.org/data/2.5/weather?zip={zipcode},{country}&appid={api_key}&lang={language}&units={units}\"\n",
    "r = requests.get(url)\n",
    "\n",
    "print(r)"
   ]
  },
  {
   "cell_type": "code",
   "execution_count": 9,
   "metadata": {},
   "outputs": [
    {
     "name": "stdout",
     "output_type": "stream",
     "text": [
      "{'coord': {'lon': 7.0484, 'lat': 50.8768}, 'weather': [{'id': 801, 'main': 'Clouds', 'description': 'Ein paar Wolken', 'icon': '02d'}], 'base': 'stations', 'main': {'temp': 9.5, 'feels_like': 9.04, 'temp_min': 8, 'temp_max': 11.67, 'pressure': 1030, 'humidity': 49}, 'visibility': 10000, 'wind': {'speed': 1.54, 'deg': 0}, 'clouds': {'all': 20}, 'dt': 1618330217, 'sys': {'type': 1, 'id': 1271, 'country': 'DE', 'sunrise': 1618288868, 'sunset': 1618338182}, 'timezone': 7200, 'id': 0, 'name': 'Köln', 'cod': 200}\n"
     ]
    }
   ],
   "source": [
    "data = r.json()\n",
    "print(data)"
   ]
  },
  {
   "cell_type": "code",
   "execution_count": 10,
   "metadata": {},
   "outputs": [
    {
     "name": "stdout",
     "output_type": "stream",
     "text": [
      "{'base': 'stations',\n",
      " 'clouds': {'all': 20},\n",
      " 'cod': 200,\n",
      " 'coord': {'lat': 50.8768, 'lon': 7.0484},\n",
      " 'dt': 1618330217,\n",
      " 'id': 0,\n",
      " 'main': {'feels_like': 9.04,\n",
      "          'humidity': 49,\n",
      "          'pressure': 1030,\n",
      "          'temp': 9.5,\n",
      "          'temp_max': 11.67,\n",
      "          'temp_min': 8},\n",
      " 'name': 'Köln',\n",
      " 'sys': {'country': 'DE',\n",
      "         'id': 1271,\n",
      "         'sunrise': 1618288868,\n",
      "         'sunset': 1618338182,\n",
      "         'type': 1},\n",
      " 'timezone': 7200,\n",
      " 'visibility': 10000,\n",
      " 'weather': [{'description': 'Ein paar Wolken',\n",
      "              'icon': '02d',\n",
      "              'id': 801,\n",
      "              'main': 'Clouds'}],\n",
      " 'wind': {'deg': 0, 'speed': 1.54}}\n"
     ]
    }
   ],
   "source": [
    "from pprint import pprint\n",
    "pprint(data)"
   ]
  },
  {
   "cell_type": "code",
   "execution_count": 12,
   "metadata": {},
   "outputs": [
    {
     "name": "stdout",
     "output_type": "stream",
     "text": [
      "------------- ⛅ --------------\n",
      "Temp: 9.5°C\n",
      "Wind: 25.7 km/h\n",
      "Lage: Ein paar Wolken\n",
      "------------- ⛅ --------------\n"
     ]
    }
   ],
   "source": [
    "zip = data['name']\n",
    "temp = data['main']['temp']\n",
    "wind_speed = round(data['wind']['speed'] * 1000 / 60, 1)\n",
    "description = data['weather'][0]['description']\n",
    "\n",
    "print(' ⛅ '.center(30, \"-\"))\n",
    "print(f\"Temp: {temp}°C\")\n",
    "print(f\"Wind: {wind_speed} km/h\")\n",
    "print(f\"Lage: {description}\")\n",
    "print(' ⛅ '.center(30, \"-\"))\n"
   ]
  },
  {
   "cell_type": "code",
   "execution_count": null,
   "metadata": {},
   "outputs": [],
   "source": []
  }
 ],
 "metadata": {
  "kernelspec": {
   "display_name": "Python 3",
   "language": "python",
   "name": "python3"
  },
  "language_info": {
   "codemirror_mode": {
    "name": "ipython",
    "version": 3
   },
   "file_extension": ".py",
   "mimetype": "text/x-python",
   "name": "python",
   "nbconvert_exporter": "python",
   "pygments_lexer": "ipython3",
   "version": "3.8.5"
  }
 },
 "nbformat": 4,
 "nbformat_minor": 4
}
