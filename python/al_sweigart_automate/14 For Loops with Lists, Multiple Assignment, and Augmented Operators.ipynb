{
 "cells": [
  {
   "cell_type": "code",
   "execution_count": 1,
   "metadata": {},
   "outputs": [
    {
     "name": "stdout",
     "output_type": "stream",
     "text": [
      "0\n",
      "1\n",
      "2\n",
      "3\n"
     ]
    }
   ],
   "source": [
    "for i in range(0, 4):\n",
    "    print(i)"
   ]
  },
  {
   "cell_type": "code",
   "execution_count": 2,
   "metadata": {},
   "outputs": [
    {
     "data": {
      "text/plain": [
       "range(0, 4)"
      ]
     },
     "execution_count": 2,
     "metadata": {},
     "output_type": "execute_result"
    }
   ],
   "source": [
    "range(4)"
   ]
  },
  {
   "cell_type": "code",
   "execution_count": 3,
   "metadata": {},
   "outputs": [
    {
     "name": "stdout",
     "output_type": "stream",
     "text": [
      "0\n",
      "1\n",
      "2\n",
      "3\n"
     ]
    }
   ],
   "source": [
    "for i in [0, 1, 2, 3]:\n",
    "    print(i)"
   ]
  },
  {
   "cell_type": "code",
   "execution_count": 4,
   "metadata": {},
   "outputs": [
    {
     "data": {
      "text/plain": [
       "[0, 1, 2, 3]"
      ]
     },
     "execution_count": 4,
     "metadata": {},
     "output_type": "execute_result"
    }
   ],
   "source": [
    "list(range(4))"
   ]
  },
  {
   "cell_type": "code",
   "execution_count": 11,
   "metadata": {},
   "outputs": [
    {
     "data": {
      "text/plain": [
       "[0, 2, 4, 6, 8, 10, 12, 14, 16, 18, 20, 22, 24, 26, 28, 30, 32, 34, 36, 38]"
      ]
     },
     "execution_count": 11,
     "metadata": {},
     "output_type": "execute_result"
    }
   ],
   "source": [
    "list(range(0, 40, 2))"
   ]
  },
  {
   "cell_type": "code",
   "execution_count": 13,
   "metadata": {},
   "outputs": [
    {
     "name": "stdout",
     "output_type": "stream",
     "text": [
      "Index 0 in supplies is: pens\n",
      "Index 1 in supplies is: staplers\n",
      "Index 2 in supplies is: flame-throwers\n",
      "Index 3 in supplies is: binders\n"
     ]
    }
   ],
   "source": [
    "supplies = ['pens', 'staplers', 'flame-throwers', 'binders']\n",
    "for i in range(len(supplies)):\n",
    "    print(f\"Index {i} in supplies is: {supplies[i]}\")\n",
    "    "
   ]
  },
  {
   "cell_type": "code",
   "execution_count": 18,
   "metadata": {},
   "outputs": [
    {
     "name": "stdout",
     "output_type": "stream",
     "text": [
      "400\n",
      "Index 0 in supplies is: pens\n",
      "Index 1 in supplies is: staplers\n",
      "Index 2 in supplies is: flame-throwers\n",
      "Index 3 in supplies is: binders\n",
      "Index 4 in supplies is: pens\n",
      "Index 5 in supplies is: staplers\n",
      "Index 6 in supplies is: flame-throwers\n",
      "Index 7 in supplies is: binders\n",
      "Index 8 in supplies is: pens\n",
      "Index 9 in supplies is: staplers\n",
      "Index 10 in supplies is: flame-throwers\n",
      "Index 11 in supplies is: binders\n",
      "Index 12 in supplies is: pens\n",
      "Index 13 in supplies is: staplers\n",
      "Index 14 in supplies is: flame-throwers\n",
      "Index 15 in supplies is: binders\n",
      "Index 16 in supplies is: pens\n",
      "Index 17 in supplies is: staplers\n",
      "Index 18 in supplies is: flame-throwers\n",
      "Index 19 in supplies is: binders\n",
      "Index 20 in supplies is: pens\n",
      "Index 21 in supplies is: staplers\n",
      "Index 22 in supplies is: flame-throwers\n",
      "Index 23 in supplies is: binders\n",
      "Index 24 in supplies is: pens\n",
      "Index 25 in supplies is: staplers\n",
      "Index 26 in supplies is: flame-throwers\n",
      "Index 27 in supplies is: binders\n",
      "Index 28 in supplies is: pens\n",
      "Index 29 in supplies is: staplers\n",
      "Index 30 in supplies is: flame-throwers\n",
      "Index 31 in supplies is: binders\n",
      "Index 32 in supplies is: pens\n",
      "Index 33 in supplies is: staplers\n",
      "Index 34 in supplies is: flame-throwers\n",
      "Index 35 in supplies is: binders\n",
      "Index 36 in supplies is: pens\n",
      "Index 37 in supplies is: staplers\n",
      "Index 38 in supplies is: flame-throwers\n",
      "Index 39 in supplies is: binders\n",
      "Index 40 in supplies is: pens\n",
      "Index 41 in supplies is: staplers\n",
      "Index 42 in supplies is: flame-throwers\n",
      "Index 43 in supplies is: binders\n",
      "Index 44 in supplies is: pens\n",
      "Index 45 in supplies is: staplers\n",
      "Index 46 in supplies is: flame-throwers\n",
      "Index 47 in supplies is: binders\n",
      "Index 48 in supplies is: pens\n",
      "Index 49 in supplies is: staplers\n",
      "Index 50 in supplies is: flame-throwers\n",
      "Index 51 in supplies is: binders\n",
      "Index 52 in supplies is: pens\n",
      "Index 53 in supplies is: staplers\n",
      "Index 54 in supplies is: flame-throwers\n",
      "Index 55 in supplies is: binders\n",
      "Index 56 in supplies is: pens\n",
      "Index 57 in supplies is: staplers\n",
      "Index 58 in supplies is: flame-throwers\n",
      "Index 59 in supplies is: binders\n",
      "Index 60 in supplies is: pens\n",
      "Index 61 in supplies is: staplers\n",
      "Index 62 in supplies is: flame-throwers\n",
      "Index 63 in supplies is: binders\n",
      "Index 64 in supplies is: pens\n",
      "Index 65 in supplies is: staplers\n",
      "Index 66 in supplies is: flame-throwers\n",
      "Index 67 in supplies is: binders\n",
      "Index 68 in supplies is: pens\n",
      "Index 69 in supplies is: staplers\n",
      "Index 70 in supplies is: flame-throwers\n",
      "Index 71 in supplies is: binders\n",
      "Index 72 in supplies is: pens\n",
      "Index 73 in supplies is: staplers\n",
      "Index 74 in supplies is: flame-throwers\n",
      "Index 75 in supplies is: binders\n",
      "Index 76 in supplies is: pens\n",
      "Index 77 in supplies is: staplers\n",
      "Index 78 in supplies is: flame-throwers\n",
      "Index 79 in supplies is: binders\n",
      "Index 80 in supplies is: pens\n",
      "Index 81 in supplies is: staplers\n",
      "Index 82 in supplies is: flame-throwers\n",
      "Index 83 in supplies is: binders\n",
      "Index 84 in supplies is: pens\n",
      "Index 85 in supplies is: staplers\n",
      "Index 86 in supplies is: flame-throwers\n",
      "Index 87 in supplies is: binders\n",
      "Index 88 in supplies is: pens\n",
      "Index 89 in supplies is: staplers\n",
      "Index 90 in supplies is: flame-throwers\n",
      "Index 91 in supplies is: binders\n",
      "Index 92 in supplies is: pens\n",
      "Index 93 in supplies is: staplers\n",
      "Index 94 in supplies is: flame-throwers\n",
      "Index 95 in supplies is: binders\n",
      "Index 96 in supplies is: pens\n",
      "Index 97 in supplies is: staplers\n",
      "Index 98 in supplies is: flame-throwers\n",
      "Index 99 in supplies is: binders\n",
      "Index 100 in supplies is: pens\n",
      "Index 101 in supplies is: staplers\n",
      "Index 102 in supplies is: flame-throwers\n",
      "Index 103 in supplies is: binders\n",
      "Index 104 in supplies is: pens\n",
      "Index 105 in supplies is: staplers\n",
      "Index 106 in supplies is: flame-throwers\n",
      "Index 107 in supplies is: binders\n",
      "Index 108 in supplies is: pens\n",
      "Index 109 in supplies is: staplers\n",
      "Index 110 in supplies is: flame-throwers\n",
      "Index 111 in supplies is: binders\n",
      "Index 112 in supplies is: pens\n",
      "Index 113 in supplies is: staplers\n",
      "Index 114 in supplies is: flame-throwers\n",
      "Index 115 in supplies is: binders\n",
      "Index 116 in supplies is: pens\n",
      "Index 117 in supplies is: staplers\n",
      "Index 118 in supplies is: flame-throwers\n",
      "Index 119 in supplies is: binders\n",
      "Index 120 in supplies is: pens\n",
      "Index 121 in supplies is: staplers\n",
      "Index 122 in supplies is: flame-throwers\n",
      "Index 123 in supplies is: binders\n",
      "Index 124 in supplies is: pens\n",
      "Index 125 in supplies is: staplers\n",
      "Index 126 in supplies is: flame-throwers\n",
      "Index 127 in supplies is: binders\n",
      "Index 128 in supplies is: pens\n",
      "Index 129 in supplies is: staplers\n",
      "Index 130 in supplies is: flame-throwers\n",
      "Index 131 in supplies is: binders\n",
      "Index 132 in supplies is: pens\n",
      "Index 133 in supplies is: staplers\n",
      "Index 134 in supplies is: flame-throwers\n",
      "Index 135 in supplies is: binders\n",
      "Index 136 in supplies is: pens\n",
      "Index 137 in supplies is: staplers\n",
      "Index 138 in supplies is: flame-throwers\n",
      "Index 139 in supplies is: binders\n",
      "Index 140 in supplies is: pens\n",
      "Index 141 in supplies is: staplers\n",
      "Index 142 in supplies is: flame-throwers\n",
      "Index 143 in supplies is: binders\n",
      "Index 144 in supplies is: pens\n",
      "Index 145 in supplies is: staplers\n",
      "Index 146 in supplies is: flame-throwers\n",
      "Index 147 in supplies is: binders\n",
      "Index 148 in supplies is: pens\n",
      "Index 149 in supplies is: staplers\n",
      "Index 150 in supplies is: flame-throwers\n",
      "Index 151 in supplies is: binders\n",
      "Index 152 in supplies is: pens\n",
      "Index 153 in supplies is: staplers\n",
      "Index 154 in supplies is: flame-throwers\n",
      "Index 155 in supplies is: binders\n",
      "Index 156 in supplies is: pens\n",
      "Index 157 in supplies is: staplers\n",
      "Index 158 in supplies is: flame-throwers\n",
      "Index 159 in supplies is: binders\n",
      "Index 160 in supplies is: pens\n",
      "Index 161 in supplies is: staplers\n",
      "Index 162 in supplies is: flame-throwers\n",
      "Index 163 in supplies is: binders\n",
      "Index 164 in supplies is: pens\n",
      "Index 165 in supplies is: staplers\n",
      "Index 166 in supplies is: flame-throwers\n",
      "Index 167 in supplies is: binders\n",
      "Index 168 in supplies is: pens\n",
      "Index 169 in supplies is: staplers\n",
      "Index 170 in supplies is: flame-throwers\n",
      "Index 171 in supplies is: binders\n",
      "Index 172 in supplies is: pens\n",
      "Index 173 in supplies is: staplers\n",
      "Index 174 in supplies is: flame-throwers\n",
      "Index 175 in supplies is: binders\n",
      "Index 176 in supplies is: pens\n",
      "Index 177 in supplies is: staplers\n",
      "Index 178 in supplies is: flame-throwers\n",
      "Index 179 in supplies is: binders\n",
      "Index 180 in supplies is: pens\n",
      "Index 181 in supplies is: staplers\n",
      "Index 182 in supplies is: flame-throwers\n",
      "Index 183 in supplies is: binders\n",
      "Index 184 in supplies is: pens\n",
      "Index 185 in supplies is: staplers\n",
      "Index 186 in supplies is: flame-throwers\n",
      "Index 187 in supplies is: binders\n",
      "Index 188 in supplies is: pens\n",
      "Index 189 in supplies is: staplers\n",
      "Index 190 in supplies is: flame-throwers\n",
      "Index 191 in supplies is: binders\n",
      "Index 192 in supplies is: pens\n",
      "Index 193 in supplies is: staplers\n",
      "Index 194 in supplies is: flame-throwers\n",
      "Index 195 in supplies is: binders\n",
      "Index 196 in supplies is: pens\n",
      "Index 197 in supplies is: staplers\n",
      "Index 198 in supplies is: flame-throwers\n",
      "Index 199 in supplies is: binders\n",
      "Index 200 in supplies is: pens\n",
      "Index 201 in supplies is: staplers\n",
      "Index 202 in supplies is: flame-throwers\n",
      "Index 203 in supplies is: binders\n",
      "Index 204 in supplies is: pens\n",
      "Index 205 in supplies is: staplers\n",
      "Index 206 in supplies is: flame-throwers\n",
      "Index 207 in supplies is: binders\n",
      "Index 208 in supplies is: pens\n",
      "Index 209 in supplies is: staplers\n",
      "Index 210 in supplies is: flame-throwers\n",
      "Index 211 in supplies is: binders\n",
      "Index 212 in supplies is: pens\n",
      "Index 213 in supplies is: staplers\n",
      "Index 214 in supplies is: flame-throwers\n",
      "Index 215 in supplies is: binders\n",
      "Index 216 in supplies is: pens\n",
      "Index 217 in supplies is: staplers\n",
      "Index 218 in supplies is: flame-throwers\n",
      "Index 219 in supplies is: binders\n",
      "Index 220 in supplies is: pens\n",
      "Index 221 in supplies is: staplers\n",
      "Index 222 in supplies is: flame-throwers\n",
      "Index 223 in supplies is: binders\n",
      "Index 224 in supplies is: pens\n",
      "Index 225 in supplies is: staplers\n",
      "Index 226 in supplies is: flame-throwers\n",
      "Index 227 in supplies is: binders\n",
      "Index 228 in supplies is: pens\n",
      "Index 229 in supplies is: staplers\n",
      "Index 230 in supplies is: flame-throwers\n",
      "Index 231 in supplies is: binders\n",
      "Index 232 in supplies is: pens\n",
      "Index 233 in supplies is: staplers\n",
      "Index 234 in supplies is: flame-throwers\n",
      "Index 235 in supplies is: binders\n",
      "Index 236 in supplies is: pens\n",
      "Index 237 in supplies is: staplers\n",
      "Index 238 in supplies is: flame-throwers\n",
      "Index 239 in supplies is: binders\n",
      "Index 240 in supplies is: pens\n",
      "Index 241 in supplies is: staplers\n",
      "Index 242 in supplies is: flame-throwers\n",
      "Index 243 in supplies is: binders\n",
      "Index 244 in supplies is: pens\n",
      "Index 245 in supplies is: staplers\n",
      "Index 246 in supplies is: flame-throwers\n",
      "Index 247 in supplies is: binders\n",
      "Index 248 in supplies is: pens\n",
      "Index 249 in supplies is: staplers\n",
      "Index 250 in supplies is: flame-throwers\n",
      "Index 251 in supplies is: binders\n",
      "Index 252 in supplies is: pens\n",
      "Index 253 in supplies is: staplers\n",
      "Index 254 in supplies is: flame-throwers\n",
      "Index 255 in supplies is: binders\n",
      "Index 256 in supplies is: pens\n",
      "Index 257 in supplies is: staplers\n",
      "Index 258 in supplies is: flame-throwers\n",
      "Index 259 in supplies is: binders\n",
      "Index 260 in supplies is: pens\n",
      "Index 261 in supplies is: staplers\n",
      "Index 262 in supplies is: flame-throwers\n",
      "Index 263 in supplies is: binders\n",
      "Index 264 in supplies is: pens\n",
      "Index 265 in supplies is: staplers\n",
      "Index 266 in supplies is: flame-throwers\n",
      "Index 267 in supplies is: binders\n",
      "Index 268 in supplies is: pens\n",
      "Index 269 in supplies is: staplers\n",
      "Index 270 in supplies is: flame-throwers\n",
      "Index 271 in supplies is: binders\n",
      "Index 272 in supplies is: pens\n",
      "Index 273 in supplies is: staplers\n",
      "Index 274 in supplies is: flame-throwers\n",
      "Index 275 in supplies is: binders\n",
      "Index 276 in supplies is: pens\n",
      "Index 277 in supplies is: staplers\n",
      "Index 278 in supplies is: flame-throwers\n",
      "Index 279 in supplies is: binders\n",
      "Index 280 in supplies is: pens\n",
      "Index 281 in supplies is: staplers\n",
      "Index 282 in supplies is: flame-throwers\n",
      "Index 283 in supplies is: binders\n",
      "Index 284 in supplies is: pens\n",
      "Index 285 in supplies is: staplers\n",
      "Index 286 in supplies is: flame-throwers\n",
      "Index 287 in supplies is: binders\n",
      "Index 288 in supplies is: pens\n",
      "Index 289 in supplies is: staplers\n",
      "Index 290 in supplies is: flame-throwers\n",
      "Index 291 in supplies is: binders\n",
      "Index 292 in supplies is: pens\n",
      "Index 293 in supplies is: staplers\n",
      "Index 294 in supplies is: flame-throwers\n",
      "Index 295 in supplies is: binders\n",
      "Index 296 in supplies is: pens\n",
      "Index 297 in supplies is: staplers\n",
      "Index 298 in supplies is: flame-throwers\n",
      "Index 299 in supplies is: binders\n",
      "Index 300 in supplies is: pens\n",
      "Index 301 in supplies is: staplers\n",
      "Index 302 in supplies is: flame-throwers\n",
      "Index 303 in supplies is: binders\n",
      "Index 304 in supplies is: pens\n",
      "Index 305 in supplies is: staplers\n",
      "Index 306 in supplies is: flame-throwers\n",
      "Index 307 in supplies is: binders\n",
      "Index 308 in supplies is: pens\n",
      "Index 309 in supplies is: staplers\n",
      "Index 310 in supplies is: flame-throwers\n",
      "Index 311 in supplies is: binders\n",
      "Index 312 in supplies is: pens\n",
      "Index 313 in supplies is: staplers\n",
      "Index 314 in supplies is: flame-throwers\n",
      "Index 315 in supplies is: binders\n",
      "Index 316 in supplies is: pens\n",
      "Index 317 in supplies is: staplers\n",
      "Index 318 in supplies is: flame-throwers\n",
      "Index 319 in supplies is: binders\n",
      "Index 320 in supplies is: pens\n",
      "Index 321 in supplies is: staplers\n",
      "Index 322 in supplies is: flame-throwers\n",
      "Index 323 in supplies is: binders\n",
      "Index 324 in supplies is: pens\n",
      "Index 325 in supplies is: staplers\n",
      "Index 326 in supplies is: flame-throwers\n",
      "Index 327 in supplies is: binders\n",
      "Index 328 in supplies is: pens\n",
      "Index 329 in supplies is: staplers\n",
      "Index 330 in supplies is: flame-throwers\n",
      "Index 331 in supplies is: binders\n",
      "Index 332 in supplies is: pens\n",
      "Index 333 in supplies is: staplers\n",
      "Index 334 in supplies is: flame-throwers\n",
      "Index 335 in supplies is: binders\n",
      "Index 336 in supplies is: pens\n",
      "Index 337 in supplies is: staplers\n",
      "Index 338 in supplies is: flame-throwers\n",
      "Index 339 in supplies is: binders\n",
      "Index 340 in supplies is: pens\n",
      "Index 341 in supplies is: staplers\n",
      "Index 342 in supplies is: flame-throwers\n",
      "Index 343 in supplies is: binders\n",
      "Index 344 in supplies is: pens\n",
      "Index 345 in supplies is: staplers\n",
      "Index 346 in supplies is: flame-throwers\n",
      "Index 347 in supplies is: binders\n",
      "Index 348 in supplies is: pens\n",
      "Index 349 in supplies is: staplers\n",
      "Index 350 in supplies is: flame-throwers\n",
      "Index 351 in supplies is: binders\n",
      "Index 352 in supplies is: pens\n",
      "Index 353 in supplies is: staplers\n",
      "Index 354 in supplies is: flame-throwers\n",
      "Index 355 in supplies is: binders\n",
      "Index 356 in supplies is: pens\n",
      "Index 357 in supplies is: staplers\n",
      "Index 358 in supplies is: flame-throwers\n",
      "Index 359 in supplies is: binders\n",
      "Index 360 in supplies is: pens\n",
      "Index 361 in supplies is: staplers\n",
      "Index 362 in supplies is: flame-throwers\n",
      "Index 363 in supplies is: binders\n",
      "Index 364 in supplies is: pens\n",
      "Index 365 in supplies is: staplers\n",
      "Index 366 in supplies is: flame-throwers\n",
      "Index 367 in supplies is: binders\n",
      "Index 368 in supplies is: pens\n",
      "Index 369 in supplies is: staplers\n",
      "Index 370 in supplies is: flame-throwers\n",
      "Index 371 in supplies is: binders\n",
      "Index 372 in supplies is: pens\n",
      "Index 373 in supplies is: staplers\n",
      "Index 374 in supplies is: flame-throwers\n",
      "Index 375 in supplies is: binders\n",
      "Index 376 in supplies is: pens\n",
      "Index 377 in supplies is: staplers\n",
      "Index 378 in supplies is: flame-throwers\n",
      "Index 379 in supplies is: binders\n",
      "Index 380 in supplies is: pens\n",
      "Index 381 in supplies is: staplers\n",
      "Index 382 in supplies is: flame-throwers\n",
      "Index 383 in supplies is: binders\n",
      "Index 384 in supplies is: pens\n",
      "Index 385 in supplies is: staplers\n",
      "Index 386 in supplies is: flame-throwers\n",
      "Index 387 in supplies is: binders\n",
      "Index 388 in supplies is: pens\n",
      "Index 389 in supplies is: staplers\n",
      "Index 390 in supplies is: flame-throwers\n",
      "Index 391 in supplies is: binders\n",
      "Index 392 in supplies is: pens\n",
      "Index 393 in supplies is: staplers\n",
      "Index 394 in supplies is: flame-throwers\n",
      "Index 395 in supplies is: binders\n",
      "Index 396 in supplies is: pens\n",
      "Index 397 in supplies is: staplers\n",
      "Index 398 in supplies is: flame-throwers\n",
      "Index 399 in supplies is: binders\n"
     ]
    }
   ],
   "source": [
    "supplies = ['pens', 'staplers', 'flame-throwers', 'binders'] * 100\n",
    "print(len(supplies))\n",
    "for i in range(len(supplies)):\n",
    "    print(f\"Index {i} in supplies is: {supplies[i]}\")"
   ]
  },
  {
   "cell_type": "code",
   "execution_count": 19,
   "metadata": {},
   "outputs": [
    {
     "name": "stdout",
     "output_type": "stream",
     "text": [
      "fat orange loud\n"
     ]
    }
   ],
   "source": [
    "cat = ['fat', 'orange', 'loud']\n",
    "size = cat[0]\n",
    "color = cat[1]\n",
    "dispo = cat[2]\n",
    "print(size, color, dispo)"
   ]
  },
  {
   "cell_type": "code",
   "execution_count": 20,
   "metadata": {},
   "outputs": [
    {
     "name": "stdout",
     "output_type": "stream",
     "text": [
      "thin grey very loud\n"
     ]
    }
   ],
   "source": [
    "dog = ['thin', 'grey', 'very loud']\n",
    "size, color, dispo = dog\n",
    "print(size, color, dispo)"
   ]
  },
  {
   "cell_type": "code",
   "execution_count": 21,
   "metadata": {},
   "outputs": [
    {
     "name": "stdout",
     "output_type": "stream",
     "text": [
      "skinny black quiet\n"
     ]
    }
   ],
   "source": [
    "size, color, dispo = 'skinny', 'black', 'quiet'\n",
    "print(size, color, dispo)"
   ]
  },
  {
   "cell_type": "code",
   "execution_count": 22,
   "metadata": {},
   "outputs": [
    {
     "name": "stdout",
     "output_type": "stream",
     "text": [
      "BBB AAA\n"
     ]
    }
   ],
   "source": [
    "a = 'AAA'\n",
    "b = 'BBB'\n",
    "a, b = b, a\n",
    "print(a, b)"
   ]
  },
  {
   "cell_type": "code",
   "execution_count": 24,
   "metadata": {},
   "outputs": [
    {
     "data": {
      "text/plain": [
       "44"
      ]
     },
     "execution_count": 24,
     "metadata": {},
     "output_type": "execute_result"
    }
   ],
   "source": [
    "spam = 42\n",
    "spam = spam + 1\n",
    "spam += 1\n",
    "spam"
   ]
  },
  {
   "cell_type": "code",
   "execution_count": null,
   "metadata": {},
   "outputs": [],
   "source": []
  }
 ],
 "metadata": {
  "kernelspec": {
   "display_name": "Python 3",
   "language": "python",
   "name": "python3"
  },
  "language_info": {
   "codemirror_mode": {
    "name": "ipython",
    "version": 3
   },
   "file_extension": ".py",
   "mimetype": "text/x-python",
   "name": "python",
   "nbconvert_exporter": "python",
   "pygments_lexer": "ipython3",
   "version": "3.8.5"
  }
 },
 "nbformat": 4,
 "nbformat_minor": 4
}
