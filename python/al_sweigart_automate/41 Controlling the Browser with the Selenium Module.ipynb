{
 "cells": [
  {
   "cell_type": "code",
   "execution_count": 3,
   "metadata": {},
   "outputs": [],
   "source": [
    "from selenium import webdriver\n",
    "browser = webdriver.Firefox()"
   ]
  },
  {
   "cell_type": "code",
   "execution_count": 4,
   "metadata": {},
   "outputs": [],
   "source": [
    "browser.get('https://automatetheboringstuff.com')"
   ]
  },
  {
   "cell_type": "code",
   "execution_count": 7,
   "metadata": {},
   "outputs": [],
   "source": [
    "elem = browser.find_element_by_css_selector('.main > div:nth-child(1) > ul:nth-child(21) > li:nth-child(1) > a:nth-child(1)')"
   ]
  },
  {
   "cell_type": "code",
   "execution_count": 8,
   "metadata": {},
   "outputs": [
    {
     "data": {
      "text/plain": [
       "<selenium.webdriver.firefox.webelement.FirefoxWebElement (session=\"564e2265-ff0f-4b57-a46c-00206deb2e00\", element=\"6f2db939-a196-44e8-9b0b-268409e5f4bb\")>"
      ]
     },
     "execution_count": 8,
     "metadata": {},
     "output_type": "execute_result"
    }
   ],
   "source": [
    "elem"
   ]
  },
  {
   "cell_type": "code",
   "execution_count": 10,
   "metadata": {},
   "outputs": [],
   "source": [
    "elem.click()"
   ]
  },
  {
   "cell_type": "code",
   "execution_count": 21,
   "metadata": {},
   "outputs": [],
   "source": [
    "browser = webdriver.Firefox()\n",
    "browser.get('https://automatetheboringstuff.com')"
   ]
  },
  {
   "cell_type": "code",
   "execution_count": 24,
   "metadata": {},
   "outputs": [],
   "source": [
    "elems = browser.find_elements_by_css_selector('p')\n"
   ]
  },
  {
   "cell_type": "code",
   "execution_count": 25,
   "metadata": {},
   "outputs": [
    {
     "data": {
      "text/plain": [
       "10"
      ]
     },
     "execution_count": 25,
     "metadata": {},
     "output_type": "execute_result"
    }
   ],
   "source": [
    "len(elems)"
   ]
  },
  {
   "cell_type": "code",
   "execution_count": 26,
   "metadata": {},
   "outputs": [
    {
     "data": {
      "text/plain": [
       "[<selenium.webdriver.firefox.webelement.FirefoxWebElement (session=\"725efb6a-6c32-4757-8a33-31f9c467eefa\", element=\"dc80ed51-e69d-4bd5-98ae-e14d9e1d57c5\")>,\n",
       " <selenium.webdriver.firefox.webelement.FirefoxWebElement (session=\"725efb6a-6c32-4757-8a33-31f9c467eefa\", element=\"24333f70-c0c2-4e99-8f0f-44b90d165bd1\")>,\n",
       " <selenium.webdriver.firefox.webelement.FirefoxWebElement (session=\"725efb6a-6c32-4757-8a33-31f9c467eefa\", element=\"b70b7852-992f-46d9-bc15-a5319d9d425a\")>,\n",
       " <selenium.webdriver.firefox.webelement.FirefoxWebElement (session=\"725efb6a-6c32-4757-8a33-31f9c467eefa\", element=\"1eb14253-81c0-462a-8f54-c7c2be976667\")>,\n",
       " <selenium.webdriver.firefox.webelement.FirefoxWebElement (session=\"725efb6a-6c32-4757-8a33-31f9c467eefa\", element=\"0f346086-e785-4943-a95b-7cccbe6635e1\")>,\n",
       " <selenium.webdriver.firefox.webelement.FirefoxWebElement (session=\"725efb6a-6c32-4757-8a33-31f9c467eefa\", element=\"6dbe2c20-12b5-4489-b703-5e984e5899f1\")>,\n",
       " <selenium.webdriver.firefox.webelement.FirefoxWebElement (session=\"725efb6a-6c32-4757-8a33-31f9c467eefa\", element=\"be37aae3-cc97-4f15-a37c-69c7cddb8522\")>,\n",
       " <selenium.webdriver.firefox.webelement.FirefoxWebElement (session=\"725efb6a-6c32-4757-8a33-31f9c467eefa\", element=\"206a994d-9154-44d9-9726-40e735f9c276\")>,\n",
       " <selenium.webdriver.firefox.webelement.FirefoxWebElement (session=\"725efb6a-6c32-4757-8a33-31f9c467eefa\", element=\"89762c80-743b-4295-9cab-c205dd023753\")>,\n",
       " <selenium.webdriver.firefox.webelement.FirefoxWebElement (session=\"725efb6a-6c32-4757-8a33-31f9c467eefa\", element=\"6488ce12-6b63-4f62-aa55-77f2bfdf3720\")>]"
      ]
     },
     "execution_count": 26,
     "metadata": {},
     "output_type": "execute_result"
    }
   ],
   "source": [
    "elems"
   ]
  },
  {
   "cell_type": "code",
   "execution_count": 36,
   "metadata": {},
   "outputs": [],
   "source": [
    "\n",
    "from selenium.webdriver.common.by import By\n",
    "from selenium.webdriver.common.keys import Keys\n",
    "from selenium.webdriver.support.ui import WebDriverWait\n",
    "from selenium.webdriver.support.expected_conditions import presence_of_element_located\n",
    "browser = webdriver.Firefox()\n",
    "browser.get('https://kubernetes.io/docs/home')\n",
    "searchElem = browser.find_element_by_css_selector('#td-sidebar-menu > form > input')\n",
    "searchElem.send_keys('secrets' + Keys.RETURN)\n"
   ]
  },
  {
   "cell_type": "code",
   "execution_count": null,
   "metadata": {},
   "outputs": [],
   "source": []
  }
 ],
 "metadata": {
  "kernelspec": {
   "display_name": "Python 3",
   "language": "python",
   "name": "python3"
  },
  "language_info": {
   "codemirror_mode": {
    "name": "ipython",
    "version": 3
   },
   "file_extension": ".py",
   "mimetype": "text/x-python",
   "name": "python",
   "nbconvert_exporter": "python",
   "pygments_lexer": "ipython3",
   "version": "3.8.5"
  },
  "varInspector": {
   "cols": {
    "lenName": 16,
    "lenType": 16,
    "lenVar": 40
   },
   "kernels_config": {
    "python": {
     "delete_cmd_postfix": "",
     "delete_cmd_prefix": "del ",
     "library": "var_list.py",
     "varRefreshCmd": "print(var_dic_list())"
    },
    "r": {
     "delete_cmd_postfix": ") ",
     "delete_cmd_prefix": "rm(",
     "library": "var_list.r",
     "varRefreshCmd": "cat(var_dic_list()) "
    }
   },
   "position": {
    "height": "309px",
    "left": "1608px",
    "right": "20px",
    "top": "120px",
    "width": "354px"
   },
   "types_to_exclude": [
    "module",
    "function",
    "builtin_function_or_method",
    "instance",
    "_Feature"
   ],
   "window_display": true
  }
 },
 "nbformat": 4,
 "nbformat_minor": 4
}
