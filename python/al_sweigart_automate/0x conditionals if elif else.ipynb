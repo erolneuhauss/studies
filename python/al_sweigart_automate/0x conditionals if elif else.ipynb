{
 "cells": [
  {
   "cell_type": "code",
   "execution_count": 1,
   "metadata": {},
   "outputs": [
    {
     "name": "stdout",
     "output_type": "stream",
     "text": [
      "this is true\n"
     ]
    }
   ],
   "source": [
    "if 1 == 1:\n",
    "    print('this is true')"
   ]
  },
  {
   "cell_type": "code",
   "execution_count": 2,
   "metadata": {},
   "outputs": [
    {
     "name": "stdout",
     "output_type": "stream",
     "text": [
      "was true\n"
     ]
    }
   ],
   "source": [
    "if True:\n",
    "    print('was true')"
   ]
  },
  {
   "cell_type": "code",
   "execution_count": 3,
   "metadata": {},
   "outputs": [],
   "source": [
    "if False:\n",
    "    print('was true')"
   ]
  },
  {
   "cell_type": "code",
   "execution_count": 4,
   "metadata": {},
   "outputs": [
    {
     "name": "stdout",
     "output_type": "stream",
     "text": [
      "was false\n"
     ]
    }
   ],
   "source": [
    "if False:\n",
    "    print('was true')\n",
    "else:\n",
    "    print('was false')"
   ]
  },
  {
   "cell_type": "code",
   "execution_count": 6,
   "metadata": {},
   "outputs": [
    {
     "name": "stdout",
     "output_type": "stream",
     "text": [
      "The name Kevin is 5 characters long.\n"
     ]
    }
   ],
   "source": [
    "name = 'Kevin'\n",
    "if len(name) >= 6:\n",
    "    print(f'The name {name} is long.')\n",
    "elif len(name) == 5:\n",
    "    print(f'The name {name} is 5 characters long.')\n",
    "elif len(name) >= 4:\n",
    "    print(f'The name {name} is 4 characters or more.')\n",
    "else:\n",
    "    print(f'The name {name} is short.')"
   ]
  },
  {
   "cell_type": "code",
   "execution_count": null,
   "metadata": {},
   "outputs": [],
   "source": []
  }
 ],
 "metadata": {
  "kernelspec": {
   "display_name": "Python 3",
   "language": "python",
   "name": "python3"
  },
  "language_info": {
   "codemirror_mode": {
    "name": "ipython",
    "version": 3
   },
   "file_extension": ".py",
   "mimetype": "text/x-python",
   "name": "python",
   "nbconvert_exporter": "python",
   "pygments_lexer": "ipython3",
   "version": "3.8.5"
  }
 },
 "nbformat": 4,
 "nbformat_minor": 4
}
