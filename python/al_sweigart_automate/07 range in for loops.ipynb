{
 "cells": [
  {
   "cell_type": "code",
   "execution_count": 1,
   "metadata": {},
   "outputs": [
    {
     "data": {
      "text/plain": [
       "range(0, 101)"
      ]
     },
     "execution_count": 1,
     "metadata": {},
     "output_type": "execute_result"
    }
   ],
   "source": [
    "range(101)"
   ]
  },
  {
   "cell_type": "code",
   "execution_count": 2,
   "metadata": {},
   "outputs": [
    {
     "data": {
      "text/plain": [
       "range(12, 15)"
      ]
     },
     "execution_count": 2,
     "metadata": {},
     "output_type": "execute_result"
    }
   ],
   "source": [
    "range(12, 15)"
   ]
  },
  {
   "cell_type": "code",
   "execution_count": 3,
   "metadata": {},
   "outputs": [
    {
     "name": "stdout",
     "output_type": "stream",
     "text": [
      "Jimmy Five Times 0\n",
      "Jimmy Five Times 1\n",
      "Jimmy Five Times 2\n",
      "Jimmy Five Times 3\n",
      "Jimmy Five Times 4\n"
     ]
    }
   ],
   "source": [
    "for i in range(5):\n",
    "    print('Jimmy Five Times ' + str(i))"
   ]
  },
  {
   "cell_type": "code",
   "execution_count": 4,
   "metadata": {},
   "outputs": [
    {
     "name": "stdout",
     "output_type": "stream",
     "text": [
      "Jimmy Five Times 5\n",
      "Jimmy Five Times 6\n",
      "Jimmy Five Times 7\n",
      "Jimmy Five Times 8\n",
      "Jimmy Five Times 9\n",
      "Jimmy Five Times 10\n",
      "Jimmy Five Times 11\n"
     ]
    }
   ],
   "source": [
    "for i in range(5,12):\n",
    "    print('Jimmy Five Times ' + str(i))"
   ]
  },
  {
   "cell_type": "code",
   "execution_count": 10,
   "metadata": {},
   "outputs": [
    {
     "name": "stdout",
     "output_type": "stream",
     "text": [
      "Jimmy Five Times 2\n",
      "Jimmy Five Times 4\n",
      "Jimmy Five Times 6\n",
      "Jimmy Five Times 8\n",
      "Jimmy Five Times 10\n"
     ]
    }
   ],
   "source": [
    "for i in range(2, 12, 2):\n",
    "    print('Jimmy Five Times ' + str(i))"
   ]
  },
  {
   "cell_type": "code",
   "execution_count": 11,
   "metadata": {},
   "outputs": [
    {
     "name": "stdout",
     "output_type": "stream",
     "text": [
      "Jimmy Five Times 2\n",
      "Jimmy Five Times 0\n",
      "Jimmy Five Times -2\n",
      "Jimmy Five Times -4\n",
      "Jimmy Five Times -6\n",
      "Jimmy Five Times -8\n"
     ]
    }
   ],
   "source": [
    "for i in range(2, -10, -2):\n",
    "    print('Jimmy Five Times ' + str(i))"
   ]
  },
  {
   "cell_type": "code",
   "execution_count": 10,
   "metadata": {},
   "outputs": [
    {
     "name": "stdout",
     "output_type": "stream",
     "text": [
      "   *\n",
      "  ***\n",
      " *****\n"
     ]
    }
   ],
   "source": [
    "length = 3\n",
    "asterix = '*'\n",
    "for i in range(length):\n",
    "    for j in range(length - i):\n",
    "        print(' ', end='')\n",
    "    print(asterix)\n",
    "    asterix += '**'"
   ]
  },
  {
   "cell_type": "code",
   "execution_count": 9,
   "metadata": {},
   "outputs": [
    {
     "name": "stdout",
     "output_type": "stream",
     "text": [
      "😱😱😱😁\n",
      "😱😱😁😁😁\n",
      "😱😁😁😁😁😁\n"
     ]
    }
   ],
   "source": [
    "length = 3\n",
    "grin = '😁'\n",
    "spaces = '😱'\n",
    "for line in range(length):\n",
    "    for space in range(length - line):\n",
    "        print(spaces, end='')\n",
    "    print(grin)\n",
    "    grin += '😁😁'"
   ]
  },
  {
   "cell_type": "code",
   "execution_count": null,
   "metadata": {},
   "outputs": [],
   "source": []
  }
 ],
 "metadata": {
  "kernelspec": {
   "display_name": "Python 3",
   "language": "python",
   "name": "python3"
  },
  "language_info": {
   "codemirror_mode": {
    "name": "ipython",
    "version": 3
   },
   "file_extension": ".py",
   "mimetype": "text/x-python",
   "name": "python",
   "nbconvert_exporter": "python",
   "pygments_lexer": "ipython3",
   "version": "3.8.5"
  }
 },
 "nbformat": 4,
 "nbformat_minor": 4
}
