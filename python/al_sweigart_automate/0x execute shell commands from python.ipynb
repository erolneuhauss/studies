{
 "cells": [
  {
   "cell_type": "code",
   "execution_count": 1,
   "metadata": {},
   "outputs": [
    {
     "data": {
      "text/plain": [
       "CompletedProcess(args=['ls', '-l'], returncode=0)"
      ]
     },
     "execution_count": 1,
     "metadata": {},
     "output_type": "execute_result"
    }
   ],
   "source": [
    "import subprocess\n",
    "subprocess.run([\"ls\", \"-l\"]) "
   ]
  },
  {
   "cell_type": "code",
   "execution_count": 2,
   "metadata": {},
   "outputs": [
    {
     "ename": "CalledProcessError",
     "evalue": "Command 'exit 1' returned non-zero exit status 1.",
     "output_type": "error",
     "traceback": [
      "\u001b[0;31m---------------------------------------------------------------------------\u001b[0m",
      "\u001b[0;31mCalledProcessError\u001b[0m                        Traceback (most recent call last)",
      "\u001b[0;32m<ipython-input-2-e9485c7d811e>\u001b[0m in \u001b[0;36m<module>\u001b[0;34m\u001b[0m\n\u001b[0;32m----> 1\u001b[0;31m \u001b[0msubprocess\u001b[0m\u001b[0;34m.\u001b[0m\u001b[0mrun\u001b[0m\u001b[0;34m(\u001b[0m\u001b[0;34m\"exit 1\"\u001b[0m\u001b[0;34m,\u001b[0m \u001b[0mshell\u001b[0m\u001b[0;34m=\u001b[0m\u001b[0;32mTrue\u001b[0m\u001b[0;34m,\u001b[0m \u001b[0mcheck\u001b[0m\u001b[0;34m=\u001b[0m\u001b[0;32mTrue\u001b[0m\u001b[0;34m)\u001b[0m\u001b[0;34m\u001b[0m\u001b[0;34m\u001b[0m\u001b[0m\n\u001b[0m",
      "\u001b[0;32m~/anaconda3/lib/python3.8/subprocess.py\u001b[0m in \u001b[0;36mrun\u001b[0;34m(input, capture_output, timeout, check, *popenargs, **kwargs)\u001b[0m\n\u001b[1;32m    510\u001b[0m         \u001b[0mretcode\u001b[0m \u001b[0;34m=\u001b[0m \u001b[0mprocess\u001b[0m\u001b[0;34m.\u001b[0m\u001b[0mpoll\u001b[0m\u001b[0;34m(\u001b[0m\u001b[0;34m)\u001b[0m\u001b[0;34m\u001b[0m\u001b[0;34m\u001b[0m\u001b[0m\n\u001b[1;32m    511\u001b[0m         \u001b[0;32mif\u001b[0m \u001b[0mcheck\u001b[0m \u001b[0;32mand\u001b[0m \u001b[0mretcode\u001b[0m\u001b[0;34m:\u001b[0m\u001b[0;34m\u001b[0m\u001b[0;34m\u001b[0m\u001b[0m\n\u001b[0;32m--> 512\u001b[0;31m             raise CalledProcessError(retcode, process.args,\n\u001b[0m\u001b[1;32m    513\u001b[0m                                      output=stdout, stderr=stderr)\n\u001b[1;32m    514\u001b[0m     \u001b[0;32mreturn\u001b[0m \u001b[0mCompletedProcess\u001b[0m\u001b[0;34m(\u001b[0m\u001b[0mprocess\u001b[0m\u001b[0;34m.\u001b[0m\u001b[0margs\u001b[0m\u001b[0;34m,\u001b[0m \u001b[0mretcode\u001b[0m\u001b[0;34m,\u001b[0m \u001b[0mstdout\u001b[0m\u001b[0;34m,\u001b[0m \u001b[0mstderr\u001b[0m\u001b[0;34m)\u001b[0m\u001b[0;34m\u001b[0m\u001b[0;34m\u001b[0m\u001b[0m\n",
      "\u001b[0;31mCalledProcessError\u001b[0m: Command 'exit 1' returned non-zero exit status 1."
     ]
    }
   ],
   "source": [
    "subprocess.run(\"exit 1\", shell=True, check=True)"
   ]
  },
  {
   "cell_type": "code",
   "execution_count": 3,
   "metadata": {},
   "outputs": [
    {
     "data": {
      "text/plain": [
       "CompletedProcess(args=['ls', '-l', '/dev/null'], returncode=0, stdout=b'crw-rw-rw- 1 root root 1, 3 Apr 12 09:16 /dev/null\\n', stderr=b'')"
      ]
     },
     "execution_count": 3,
     "metadata": {},
     "output_type": "execute_result"
    }
   ],
   "source": [
    "subprocess.run([\"ls\", \"-l\", \"/dev/null\"], capture_output=True)"
   ]
  },
  {
   "cell_type": "code",
   "execution_count": 9,
   "metadata": {},
   "outputs": [
    {
     "data": {
      "text/plain": [
       "CompletedProcess(args=['/bin/ls', '-lha', '/var/cache'], returncode=0, stdout=b'total 96K\\ndrwxr-xr-x 19 root root 4,0K M\\xc3\\xa4r 16 14:17 .\\ndrwxr-xr-x 14 root root 4,0K Feb  9 19:56 ..\\ndrwxr-xr-x  4 root root 4,0K M\\xc3\\xa4r  2 12:10 apparmor\\ndrwxr-xr-x  4 root root 4,0K Feb  9 19:52 app-info\\ndrwxr-xr-x  3 root root 4,0K Apr 12 09:17 apt\\ndrwx------  2 root root 4,0K M\\xc3\\xa4r 16 14:17 atop.d\\ndrwxr-xr-x  2 root root 4,0K Feb  9 19:51 cracklib\\ndrwxrwx---  3 root lp   4,0K Apr 12 09:17 cups\\ndrwxr-xr-x  2 root root 4,0K Apr  7 12:10 debconf\\ndrwxr-xr-x  2 root root 4,0K Feb  9 19:55 dictionaries-common\\ndrwxr-xr-x  2 root root  24K Apr  6 11:57 fontconfig\\ndrwxr-xr-x  2 root root 4,0K Apr 11 20:20 fwupd\\nlrwxrwxrwx  1 root root   16 M\\xc3\\xa4r  2 22:41 fwupdmgr -> private/fwupdmgr\\ndrwxr-xr-x  2 root root 4,0K Nov 10 13:27 gdm\\ndrwx------  2 root root 4,0K Apr  8 15:48 ldconfig\\ndrwxr-xr-x  2 root root 4,0K Feb  7  2020 lightdm\\ndrwxr-xr-x 40 man  man  4,0K Apr 12 09:16 man\\ndrwxr-xr-x  3 root root 4,0K Feb  9 19:49 PackageKit\\ndrwx------  3 root root 4,0K M\\xc3\\xa4r  2 22:41 private\\ndrwxr-xr-x  3 root root 4,0K Apr 12 09:17 snapd\\n')"
      ]
     },
     "execution_count": 9,
     "metadata": {},
     "output_type": "execute_result"
    }
   ],
   "source": [
    "proc = subprocess.run(\n",
    "    [\n",
    "        \"/bin/ls\",\n",
    "        \"-lha\",\n",
    "        \"/var/cache\"\n",
    "    ],\n",
    "    stdout=subprocess.PIPE,\n",
    "    stderr=subprocess.PIPE,\n",
    ")\n",
    "proc"
   ]
  },
  {
   "cell_type": "code",
   "execution_count": 10,
   "metadata": {},
   "outputs": [
    {
     "data": {
      "text/plain": [
       "b'total 96K\\ndrwxr-xr-x 19 root root 4,0K M\\xc3\\xa4r 16 14:17 .\\ndrwxr-xr-x 14 root root 4,0K Feb  9 19:56 ..\\ndrwxr-xr-x  4 root root 4,0K M\\xc3\\xa4r  2 12:10 apparmor\\ndrwxr-xr-x  4 root root 4,0K Feb  9 19:52 app-info\\ndrwxr-xr-x  3 root root 4,0K Apr 12 09:17 apt\\ndrwx------  2 root root 4,0K M\\xc3\\xa4r 16 14:17 atop.d\\ndrwxr-xr-x  2 root root 4,0K Feb  9 19:51 cracklib\\ndrwxrwx---  3 root lp   4,0K Apr 12 09:17 cups\\ndrwxr-xr-x  2 root root 4,0K Apr  7 12:10 debconf\\ndrwxr-xr-x  2 root root 4,0K Feb  9 19:55 dictionaries-common\\ndrwxr-xr-x  2 root root  24K Apr  6 11:57 fontconfig\\ndrwxr-xr-x  2 root root 4,0K Apr 11 20:20 fwupd\\nlrwxrwxrwx  1 root root   16 M\\xc3\\xa4r  2 22:41 fwupdmgr -> private/fwupdmgr\\ndrwxr-xr-x  2 root root 4,0K Nov 10 13:27 gdm\\ndrwx------  2 root root 4,0K Apr  8 15:48 ldconfig\\ndrwxr-xr-x  2 root root 4,0K Feb  7  2020 lightdm\\ndrwxr-xr-x 40 man  man  4,0K Apr 12 09:16 man\\ndrwxr-xr-x  3 root root 4,0K Feb  9 19:49 PackageKit\\ndrwx------  3 root root 4,0K M\\xc3\\xa4r  2 22:41 private\\ndrwxr-xr-x  3 root root 4,0K Apr 12 09:17 snapd\\n'"
      ]
     },
     "execution_count": 10,
     "metadata": {},
     "output_type": "execute_result"
    }
   ],
   "source": [
    "proc.stdout"
   ]
  },
  {
   "cell_type": "code",
   "execution_count": 12,
   "metadata": {},
   "outputs": [
    {
     "data": {
      "text/plain": [
       "b'\\x00\\x01\\x02\\x03\\x04.\\xff'"
      ]
     },
     "execution_count": 12,
     "metadata": {},
     "output_type": "execute_result"
    }
   ],
   "source": [
    "# b = bytes object\n",
    "bytes([0, 1, 2, 3, 4, 46, 255])"
   ]
  },
  {
   "cell_type": "code",
   "execution_count": 13,
   "metadata": {},
   "outputs": [
    {
     "data": {
      "text/plain": [
       "'total 96K\\ndrwxr-xr-x 19 root root 4,0K Mär 16 14:17 .\\ndrwxr-xr-x 14 root root 4,0K Feb  9 19:56 ..\\ndrwxr-xr-x  4 root root 4,0K Mär  2 12:10 apparmor\\ndrwxr-xr-x  4 root root 4,0K Feb  9 19:52 app-info\\ndrwxr-xr-x  3 root root 4,0K Apr 12 09:17 apt\\ndrwx------  2 root root 4,0K Mär 16 14:17 atop.d\\ndrwxr-xr-x  2 root root 4,0K Feb  9 19:51 cracklib\\ndrwxrwx---  3 root lp   4,0K Apr 12 09:17 cups\\ndrwxr-xr-x  2 root root 4,0K Apr  7 12:10 debconf\\ndrwxr-xr-x  2 root root 4,0K Feb  9 19:55 dictionaries-common\\ndrwxr-xr-x  2 root root  24K Apr  6 11:57 fontconfig\\ndrwxr-xr-x  2 root root 4,0K Apr 11 20:20 fwupd\\nlrwxrwxrwx  1 root root   16 Mär  2 22:41 fwupdmgr -> private/fwupdmgr\\ndrwxr-xr-x  2 root root 4,0K Nov 10 13:27 gdm\\ndrwx------  2 root root 4,0K Apr  8 15:48 ldconfig\\ndrwxr-xr-x  2 root root 4,0K Feb  7  2020 lightdm\\ndrwxr-xr-x 40 man  man  4,0K Apr 12 09:16 man\\ndrwxr-xr-x  3 root root 4,0K Feb  9 19:49 PackageKit\\ndrwx------  3 root root 4,0K Mär  2 22:41 private\\ndrwxr-xr-x  3 root root 4,0K Apr 12 09:17 snapd\\n'"
      ]
     },
     "execution_count": 13,
     "metadata": {},
     "output_type": "execute_result"
    }
   ],
   "source": [
    "bytes.decode(proc.stdout)"
   ]
  },
  {
   "cell_type": "code",
   "execution_count": 18,
   "metadata": {},
   "outputs": [
    {
     "name": "stdout",
     "output_type": "stream",
     "text": [
      "total 96K\n",
      "drwxr-xr-x 19 root root 4,0K Mär 16 14:17 .\n",
      "drwxr-xr-x 14 root root 4,0K Feb  9 19:56 ..\n",
      "drwxr-xr-x  4 root root 4,0K Mär  2 12:10 apparmor\n",
      "drwxr-xr-x  4 root root 4,0K Feb  9 19:52 app-info\n",
      "drwxr-xr-x  3 root root 4,0K Apr 12 09:17 apt\n",
      "drwx------  2 root root 4,0K Mär 16 14:17 atop.d\n",
      "drwxr-xr-x  2 root root 4,0K Feb  9 19:51 cracklib\n",
      "drwxrwx---  3 root lp   4,0K Apr 12 09:17 cups\n",
      "drwxr-xr-x  2 root root 4,0K Apr  7 12:10 debconf\n",
      "drwxr-xr-x  2 root root 4,0K Feb  9 19:55 dictionaries-common\n",
      "drwxr-xr-x  2 root root  24K Apr  6 11:57 fontconfig\n",
      "drwxr-xr-x  2 root root 4,0K Apr 11 20:20 fwupd\n",
      "lrwxrwxrwx  1 root root   16 Mär  2 22:41 fwupdmgr -> private/fwupdmgr\n",
      "drwxr-xr-x  2 root root 4,0K Nov 10 13:27 gdm\n",
      "drwx------  2 root root 4,0K Apr  8 15:48 ldconfig\n",
      "drwxr-xr-x  2 root root 4,0K Feb  7  2020 lightdm\n",
      "drwxr-xr-x 40 man  man  4,0K Apr 12 09:16 man\n",
      "drwxr-xr-x  3 root root 4,0K Feb  9 19:49 PackageKit\n",
      "drwx------  3 root root 4,0K Mär  2 22:41 private\n",
      "drwxr-xr-x  3 root root 4,0K Apr 12 09:17 snapd\n",
      "\n"
     ]
    }
   ],
   "source": [
    "print(bytes.decode(proc.stdout))"
   ]
  },
  {
   "cell_type": "code",
   "execution_count": 20,
   "metadata": {},
   "outputs": [
    {
     "data": {
      "text/plain": [
       "CompletedProcess(args=['/bin/cat', 'non-existant.txt'], returncode=1)"
      ]
     },
     "execution_count": 20,
     "metadata": {},
     "output_type": "execute_result"
    }
   ],
   "source": [
    "new_proc = subprocess.run(['/bin/cat', 'non-existant.txt'])\n",
    "new_proc"
   ]
  },
  {
   "cell_type": "code",
   "execution_count": 26,
   "metadata": {},
   "outputs": [
    {
     "ename": "CalledProcessError",
     "evalue": "Command '['/bin/cat', 'non-existant.txt']' returned non-zero exit status 1.",
     "output_type": "error",
     "traceback": [
      "\u001b[0;31m---------------------------------------------------------------------------\u001b[0m",
      "\u001b[0;31mCalledProcessError\u001b[0m                        Traceback (most recent call last)",
      "\u001b[0;32m<ipython-input-26-bca42731fae8>\u001b[0m in \u001b[0;36m<module>\u001b[0;34m\u001b[0m\n\u001b[0;32m----> 1\u001b[0;31m \u001b[0msubprocess\u001b[0m\u001b[0;34m.\u001b[0m\u001b[0mrun\u001b[0m\u001b[0;34m(\u001b[0m\u001b[0;34m[\u001b[0m\u001b[0;34m'/bin/cat'\u001b[0m\u001b[0;34m,\u001b[0m \u001b[0;34m'non-existant.txt'\u001b[0m\u001b[0;34m]\u001b[0m\u001b[0;34m,\u001b[0m \u001b[0mcheck\u001b[0m\u001b[0;34m=\u001b[0m\u001b[0;32mTrue\u001b[0m\u001b[0;34m)\u001b[0m\u001b[0;34m\u001b[0m\u001b[0;34m\u001b[0m\u001b[0m\n\u001b[0m",
      "\u001b[0;32m~/anaconda3/lib/python3.8/subprocess.py\u001b[0m in \u001b[0;36mrun\u001b[0;34m(input, capture_output, timeout, check, *popenargs, **kwargs)\u001b[0m\n\u001b[1;32m    510\u001b[0m         \u001b[0mretcode\u001b[0m \u001b[0;34m=\u001b[0m \u001b[0mprocess\u001b[0m\u001b[0;34m.\u001b[0m\u001b[0mpoll\u001b[0m\u001b[0;34m(\u001b[0m\u001b[0;34m)\u001b[0m\u001b[0;34m\u001b[0m\u001b[0;34m\u001b[0m\u001b[0m\n\u001b[1;32m    511\u001b[0m         \u001b[0;32mif\u001b[0m \u001b[0mcheck\u001b[0m \u001b[0;32mand\u001b[0m \u001b[0mretcode\u001b[0m\u001b[0;34m:\u001b[0m\u001b[0;34m\u001b[0m\u001b[0;34m\u001b[0m\u001b[0m\n\u001b[0;32m--> 512\u001b[0;31m             raise CalledProcessError(retcode, process.args,\n\u001b[0m\u001b[1;32m    513\u001b[0m                                      output=stdout, stderr=stderr)\n\u001b[1;32m    514\u001b[0m     \u001b[0;32mreturn\u001b[0m \u001b[0mCompletedProcess\u001b[0m\u001b[0;34m(\u001b[0m\u001b[0mprocess\u001b[0m\u001b[0;34m.\u001b[0m\u001b[0margs\u001b[0m\u001b[0;34m,\u001b[0m \u001b[0mretcode\u001b[0m\u001b[0;34m,\u001b[0m \u001b[0mstdout\u001b[0m\u001b[0;34m,\u001b[0m \u001b[0mstderr\u001b[0m\u001b[0;34m)\u001b[0m\u001b[0;34m\u001b[0m\u001b[0;34m\u001b[0m\u001b[0m\n",
      "\u001b[0;31mCalledProcessError\u001b[0m: Command '['/bin/cat', 'non-existant.txt']' returned non-zero exit status 1."
     ]
    }
   ],
   "source": [
    "subprocess.run(['/bin/cat', 'non-existant.txt'], check=True)"
   ]
  },
  {
   "cell_type": "code",
   "execution_count": 27,
   "metadata": {},
   "outputs": [
    {
     "ename": "CalledProcessError",
     "evalue": "Command '['/bin/cat', 'non-existant.txt']' returned non-zero exit status 1.",
     "output_type": "error",
     "traceback": [
      "\u001b[0;31m---------------------------------------------------------------------------\u001b[0m",
      "\u001b[0;31mCalledProcessError\u001b[0m                        Traceback (most recent call last)",
      "\u001b[0;32m<ipython-input-27-7a38e11ad73c>\u001b[0m in \u001b[0;36m<module>\u001b[0;34m\u001b[0m\n\u001b[0;32m----> 1\u001b[0;31m \u001b[0msubprocess\u001b[0m\u001b[0;34m.\u001b[0m\u001b[0mcheck_output\u001b[0m\u001b[0;34m(\u001b[0m\u001b[0;34m[\u001b[0m\u001b[0;34m'/bin/cat'\u001b[0m\u001b[0;34m,\u001b[0m \u001b[0;34m'non-existant.txt'\u001b[0m\u001b[0;34m]\u001b[0m\u001b[0;34m)\u001b[0m\u001b[0;34m\u001b[0m\u001b[0;34m\u001b[0m\u001b[0m\n\u001b[0m",
      "\u001b[0;32m~/anaconda3/lib/python3.8/subprocess.py\u001b[0m in \u001b[0;36mcheck_output\u001b[0;34m(timeout, *popenargs, **kwargs)\u001b[0m\n\u001b[1;32m    409\u001b[0m         \u001b[0mkwargs\u001b[0m\u001b[0;34m[\u001b[0m\u001b[0;34m'input'\u001b[0m\u001b[0;34m]\u001b[0m \u001b[0;34m=\u001b[0m \u001b[0;34m''\u001b[0m \u001b[0;32mif\u001b[0m \u001b[0mkwargs\u001b[0m\u001b[0;34m.\u001b[0m\u001b[0mget\u001b[0m\u001b[0;34m(\u001b[0m\u001b[0;34m'universal_newlines'\u001b[0m\u001b[0;34m,\u001b[0m \u001b[0;32mFalse\u001b[0m\u001b[0;34m)\u001b[0m \u001b[0;32melse\u001b[0m \u001b[0;34mb''\u001b[0m\u001b[0;34m\u001b[0m\u001b[0;34m\u001b[0m\u001b[0m\n\u001b[1;32m    410\u001b[0m \u001b[0;34m\u001b[0m\u001b[0m\n\u001b[0;32m--> 411\u001b[0;31m     return run(*popenargs, stdout=PIPE, timeout=timeout, check=True,\n\u001b[0m\u001b[1;32m    412\u001b[0m                **kwargs).stdout\n\u001b[1;32m    413\u001b[0m \u001b[0;34m\u001b[0m\u001b[0m\n",
      "\u001b[0;32m~/anaconda3/lib/python3.8/subprocess.py\u001b[0m in \u001b[0;36mrun\u001b[0;34m(input, capture_output, timeout, check, *popenargs, **kwargs)\u001b[0m\n\u001b[1;32m    510\u001b[0m         \u001b[0mretcode\u001b[0m \u001b[0;34m=\u001b[0m \u001b[0mprocess\u001b[0m\u001b[0;34m.\u001b[0m\u001b[0mpoll\u001b[0m\u001b[0;34m(\u001b[0m\u001b[0;34m)\u001b[0m\u001b[0;34m\u001b[0m\u001b[0;34m\u001b[0m\u001b[0m\n\u001b[1;32m    511\u001b[0m         \u001b[0;32mif\u001b[0m \u001b[0mcheck\u001b[0m \u001b[0;32mand\u001b[0m \u001b[0mretcode\u001b[0m\u001b[0;34m:\u001b[0m\u001b[0;34m\u001b[0m\u001b[0;34m\u001b[0m\u001b[0m\n\u001b[0;32m--> 512\u001b[0;31m             raise CalledProcessError(retcode, process.args,\n\u001b[0m\u001b[1;32m    513\u001b[0m                                      output=stdout, stderr=stderr)\n\u001b[1;32m    514\u001b[0m     \u001b[0;32mreturn\u001b[0m \u001b[0mCompletedProcess\u001b[0m\u001b[0;34m(\u001b[0m\u001b[0mprocess\u001b[0m\u001b[0;34m.\u001b[0m\u001b[0margs\u001b[0m\u001b[0;34m,\u001b[0m \u001b[0mretcode\u001b[0m\u001b[0;34m,\u001b[0m \u001b[0mstdout\u001b[0m\u001b[0;34m,\u001b[0m \u001b[0mstderr\u001b[0m\u001b[0;34m)\u001b[0m\u001b[0;34m\u001b[0m\u001b[0;34m\u001b[0m\u001b[0m\n",
      "\u001b[0;31mCalledProcessError\u001b[0m: Command '['/bin/cat', 'non-existant.txt']' returned non-zero exit status 1."
     ]
    }
   ],
   "source": [
    "# same as run(..., check=True, stdout=PIPE).stdout\n",
    "subprocess.check_output(['/bin/cat', 'non-existant.txt'])"
   ]
  },
  {
   "cell_type": "code",
   "execution_count": null,
   "metadata": {},
   "outputs": [],
   "source": []
  }
 ],
 "metadata": {
  "kernelspec": {
   "display_name": "Python 3",
   "language": "python",
   "name": "python3"
  },
  "language_info": {
   "codemirror_mode": {
    "name": "ipython",
    "version": 3
   },
   "file_extension": ".py",
   "mimetype": "text/x-python",
   "name": "python",
   "nbconvert_exporter": "python",
   "pygments_lexer": "ipython3",
   "version": "3.8.5"
  }
 },
 "nbformat": 4,
 "nbformat_minor": 4
}
